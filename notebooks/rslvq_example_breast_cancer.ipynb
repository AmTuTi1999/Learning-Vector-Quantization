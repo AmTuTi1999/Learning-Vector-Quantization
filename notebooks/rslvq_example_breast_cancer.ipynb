{
 "cells": [
  {
   "cell_type": "code",
   "execution_count": 1,
   "metadata": {},
   "outputs": [],
   "source": [
    "from rslvq import RSLVQ\n",
    "import pandas as pd\n",
    "import numpy as np"
   ]
  },
  {
   "cell_type": "code",
   "execution_count": 2,
   "metadata": {},
   "outputs": [
    {
     "name": "stderr",
     "output_type": "stream",
     "text": [
      "/tmp/ipykernel_102001/1401899314.py:4: FutureWarning: Downcasting behavior in `replace` is deprecated and will be removed in a future version. To retain the old behavior, explicitly call `result.infer_objects(copy=False)`. To opt-in to the future behavior, set `pd.set_option('future.no_silent_downcasting', True)`\n",
      "  label = b_c_data['diagnosis'].replace({'M': 0, 'B': 1})\n"
     ]
    }
   ],
   "source": [
    "b_c_data = pd.read_csv('data.csv')\n",
    "b_c_data.columns\n",
    "b_c_data.drop(['id', 'Unnamed: 32'], axis = 1, inplace= True)\n",
    "label = b_c_data['diagnosis'].replace({'M': 0, 'B': 1})\n",
    "train_data = b_c_data.drop(['diagnosis'], axis = 1)"
   ]
  },
  {
   "cell_type": "code",
   "execution_count": 3,
   "metadata": {},
   "outputs": [],
   "source": [
    "#scale data between 0 and 1\n",
    "from sklearn.preprocessing import MinMaxScaler\n",
    "scale = MinMaxScaler()\n",
    "X = scale.fit_transform(train_data)\n",
    "norm_t_data = pd.DataFrame(X, columns = train_data.columns, index = train_data.index)"
   ]
  },
  {
   "cell_type": "code",
   "execution_count": 4,
   "metadata": {},
   "outputs": [],
   "source": [
    "from sklearn.model_selection import train_test_split\n",
    "\n",
    "\n",
    "# Split dataset into training set and test set\n",
    "x_train, x_val, y_train, y_val = train_test_split(np.array(norm_t_data), np.array(label), test_size=0.3, random_state=42)"
   ]
  },
  {
   "cell_type": "code",
   "execution_count": 5,
   "metadata": {},
   "outputs": [],
   "source": [
    "trained_model = RSLVQ(num_prototypes_per_class=1, initialization_type='mean')"
   ]
  },
  {
   "cell_type": "code",
   "execution_count": 6,
   "metadata": {},
   "outputs": [
    {
     "name": "stderr",
     "output_type": "stream",
     "text": [
      "Training Progress:   0%|          | 0/100 [00:00<?, ?it/s]"
     ]
    },
    {
     "name": "stderr",
     "output_type": "stream",
     "text": [
      "rslvq.py:105 - Acc.......94.72, loss......1252.8988\n",
      "Training Progress:  10%|█         | 10/100 [00:00<00:01, 45.57it/s]rslvq.py:105 - Acc.......96.98, loss......4737.2831\n",
      "Training Progress:  20%|██        | 20/100 [00:00<00:02, 39.85it/s]rslvq.py:105 - Acc.......97.24, loss......6089.0697\n",
      "Training Progress:  30%|███       | 30/100 [00:00<00:01, 38.07it/s]rslvq.py:105 - Acc.......97.49, loss......6845.2295\n",
      "Training Progress:  38%|███▊      | 38/100 [00:00<00:01, 36.74it/s]rslvq.py:105 - Acc.......97.49, loss......7323.3025\n",
      "Training Progress:  47%|████▋     | 47/100 [00:01<00:01, 38.97it/s]rslvq.py:105 - Acc.......97.49, loss......7640.8933\n",
      "Training Progress:  57%|█████▋    | 57/100 [00:01<00:01, 38.96it/s]rslvq.py:105 - Acc.......97.49, loss......7854.6805\n",
      "Training Progress:  70%|███████   | 70/100 [00:01<00:00, 39.66it/s]rslvq.py:105 - Acc.......97.49, loss......7997.4290\n",
      "Training Progress:  80%|████████  | 80/100 [00:02<00:00, 40.19it/s]rslvq.py:105 - Acc.......97.49, loss......8090.4957\n",
      "Training Progress:  90%|█████████ | 90/100 [00:02<00:00, 40.68it/s]rslvq.py:105 - Acc.......97.49, loss......8148.8211\n",
      "Training Progress: 100%|██████████| 100/100 [00:02<00:00, 39.46it/s]\n",
      "rslvq.py:109 - Training finished\n"
     ]
    }
   ],
   "source": [
    "trained_model.fit(x_train, y_train)"
   ]
  },
  {
   "cell_type": "code",
   "execution_count": 7,
   "metadata": {},
   "outputs": [
    {
     "data": {
      "text/plain": [
       "98.24561403508771"
      ]
     },
     "execution_count": 7,
     "metadata": {},
     "output_type": "execute_result"
    }
   ],
   "source": [
    "#evaluatte on test set\n",
    "trained_model.evaluate(x_val, y_val)"
   ]
  },
  {
   "cell_type": "code",
   "execution_count": 8,
   "metadata": {},
   "outputs": [],
   "source": [
    "#use command predict_all for arrays of points\n",
    "trained_model.predict_proba(x_val[1])"
   ]
  },
  {
   "cell_type": "code",
   "execution_count": 9,
   "metadata": {},
   "outputs": [
    {
     "data": {
      "text/plain": [
       "[0]"
      ]
     },
     "execution_count": 9,
     "metadata": {},
     "output_type": "execute_result"
    }
   ],
   "source": [
    "trained_model.predict(x_val[1].reshape((1, len(x_val[0]))))"
   ]
  },
  {
   "cell_type": "code",
   "execution_count": 10,
   "metadata": {},
   "outputs": [
    {
     "name": "stderr",
     "output_type": "stream",
     "text": [
      "Training Progress:   0%|          | 0/100 [00:00<?, ?it/s]rslvq.py:105 - Acc.......94.72, loss......1253.6117\n"
     ]
    },
    {
     "name": "stderr",
     "output_type": "stream",
     "text": [
      "Training Progress:   8%|▊         | 8/100 [00:00<00:02, 36.88it/s]rslvq.py:105 - Acc.......96.98, loss......4737.4368\n",
      "Training Progress:  19%|█▉        | 19/100 [00:00<00:01, 45.43it/s]rslvq.py:105 - Acc.......97.24, loss......6088.8330\n",
      "Training Progress:  25%|██▌       | 25/100 [00:00<00:01, 47.34it/s]rslvq.py:105 - Acc.......97.49, loss......6844.8101\n",
      "Training Progress:  36%|███▌      | 36/100 [00:00<00:01, 48.06it/s]rslvq.py:105 - Acc.......97.49, loss......7322.8184\n",
      "Training Progress:  46%|████▌     | 46/100 [00:01<00:01, 48.43it/s]rslvq.py:105 - Acc.......97.49, loss......7640.4119\n",
      "Training Progress:  57%|█████▋    | 57/100 [00:01<00:00, 49.31it/s]rslvq.py:105 - Acc.......97.49, loss......7854.2384\n",
      "Training Progress:  67%|██████▋   | 67/100 [00:01<00:00, 46.85it/s]rslvq.py:105 - Acc.......97.49, loss......7997.0439\n",
      "Training Progress:  78%|███████▊  | 78/100 [00:01<00:00, 45.91it/s]rslvq.py:105 - Acc.......97.49, loss......8090.1729\n",
      "Training Progress:  88%|████████▊ | 88/100 [00:01<00:00, 44.84it/s]rslvq.py:105 - Acc.......97.49, loss......8148.5589\n",
      "Training Progress: 100%|██████████| 100/100 [00:02<00:00, 46.30it/s]\n",
      "rslvq.py:109 - Training finished\n"
     ]
    },
    {
     "ename": "TypeError",
     "evalue": "cannot unpack non-iterable NoneType object",
     "output_type": "error",
     "traceback": [
      "\u001b[0;31m---------------------------------------------------------------------------\u001b[0m",
      "\u001b[0;31mTypeError\u001b[0m                                 Traceback (most recent call last)",
      "Cell \u001b[0;32mIn[10], line 3\u001b[0m\n\u001b[1;32m      1\u001b[0m \u001b[38;5;66;03m#try for mean initialization\u001b[39;00m\n\u001b[1;32m      2\u001b[0m trained_model \u001b[38;5;241m=\u001b[39m RSLVQ(num_prototypes_per_class\u001b[38;5;241m=\u001b[39m\u001b[38;5;241m1\u001b[39m, initialization_type\u001b[38;5;241m=\u001b[39m\u001b[38;5;124m'\u001b[39m\u001b[38;5;124mmean\u001b[39m\u001b[38;5;124m'\u001b[39m)\n\u001b[0;32m----> 3\u001b[0m prototypes,proto_labels \u001b[38;5;241m=\u001b[39m trained_model\u001b[38;5;241m.\u001b[39mfit(x_train, y_train)\n\u001b[1;32m      4\u001b[0m trained_model\u001b[38;5;241m.\u001b[39mevaluate(x_val, y_val)\n",
      "\u001b[0;31mTypeError\u001b[0m: cannot unpack non-iterable NoneType object"
     ]
    }
   ],
   "source": [
    "#try for mean initialization\n",
    "trained_model = RSLVQ(num_prototypes_per_class=1, initialization_type='random')\n",
    "trained_model.fit(x_train, y_train)\n",
    "trained_model.evaluate(x_val, y_val)"
   ]
  }
 ],
 "metadata": {
  "kernelspec": {
   "display_name": "Python 3",
   "language": "python",
   "name": "python3"
  },
  "language_info": {
   "codemirror_mode": {
    "name": "ipython",
    "version": 3
   },
   "file_extension": ".py",
   "mimetype": "text/x-python",
   "name": "python",
   "nbconvert_exporter": "python",
   "pygments_lexer": "ipython3",
   "version": "3.10.12"
  },
  "orig_nbformat": 4
 },
 "nbformat": 4,
 "nbformat_minor": 2
}
