{
 "cells": [
  {
   "cell_type": "code",
   "execution_count": 1,
   "metadata": {},
   "outputs": [],
   "source": [
    "import os\n",
    "os.getcwd()\n",
    "os.chdir(\"/home/amadeo-tunyi/Learning-Vector-Quantization/\")"
   ]
  },
  {
   "cell_type": "code",
   "execution_count": 2,
   "metadata": {},
   "outputs": [],
   "source": [
    "from LVQ.rslvq import RSLVQ\n",
    "import pandas as pd\n",
    "import numpy as np"
   ]
  },
  {
   "cell_type": "code",
   "execution_count": 3,
   "metadata": {},
   "outputs": [
    {
     "name": "stderr",
     "output_type": "stream",
     "text": [
      "/tmp/ipykernel_75928/1174392148.py:4: FutureWarning: Downcasting behavior in `replace` is deprecated and will be removed in a future version. To retain the old behavior, explicitly call `result.infer_objects(copy=False)`. To opt-in to the future behavior, set `pd.set_option('future.no_silent_downcasting', True)`\n",
      "  label = b_c_data['diagnosis'].replace({'M': 0, 'B': 1})\n"
     ]
    }
   ],
   "source": [
    "b_c_data = pd.read_csv('LVQ/data/data.csv')\n",
    "b_c_data.columns\n",
    "b_c_data.drop(['id', 'Unnamed: 32'], axis = 1, inplace= True)\n",
    "label = b_c_data['diagnosis'].replace({'M': 0, 'B': 1})\n",
    "train_data = b_c_data.drop(['diagnosis'], axis = 1)"
   ]
  },
  {
   "cell_type": "code",
   "execution_count": 4,
   "metadata": {},
   "outputs": [],
   "source": [
    "#scale data between 0 and 1\n",
    "from sklearn.preprocessing import MinMaxScaler\n",
    "scale = MinMaxScaler()\n",
    "X = scale.fit_transform(train_data)\n",
    "norm_t_data = pd.DataFrame(X, columns = train_data.columns, index = train_data.index)"
   ]
  },
  {
   "cell_type": "code",
   "execution_count": 5,
   "metadata": {},
   "outputs": [],
   "source": [
    "from sklearn.model_selection import train_test_split\n",
    "\n",
    "\n",
    "# Split dataset into training set and test set\n",
    "x_train, x_val, y_train, y_val = train_test_split(np.array(norm_t_data), np.array(label), test_size=0.3, random_state=42)"
   ]
  },
  {
   "cell_type": "code",
   "execution_count": 6,
   "metadata": {},
   "outputs": [],
   "source": [
    "trained_model = RSLVQ(num_prototypes_per_class=3, initialization_type='mean')"
   ]
  },
  {
   "cell_type": "code",
   "execution_count": 7,
   "metadata": {},
   "outputs": [
    {
     "name": "stderr",
     "output_type": "stream",
     "text": [
      "rslvq.py:144 - Initializing prototypes with mean\n",
      "Training Progress:   0%|          | 0/100 [00:00<?, ?it/s]rslvq.py:168 - Epoch 0000 - Accuracy: 92.71%, Loss: 2396.8064\n",
      "Training Progress:  10%|█         | 10/100 [00:01<00:09,  9.39it/s]rslvq.py:168 - Epoch 0010 - Accuracy: 96.23%, Loss: 13545.3931\n",
      "Training Progress:  20%|██        | 20/100 [00:02<00:09,  8.53it/s]rslvq.py:168 - Epoch 0020 - Accuracy: 97.24%, Loss: 29251.0439\n",
      "Training Progress:  30%|███       | 30/100 [00:03<00:08,  8.45it/s]rslvq.py:168 - Epoch 0030 - Accuracy: 96.98%, Loss: 70604.9581\n",
      "Training Progress:  40%|████      | 40/100 [00:04<00:06,  8.95it/s]rslvq.py:168 - Epoch 0040 - Accuracy: 97.49%, Loss: 186250.8162\n",
      "Training Progress:  50%|█████     | 50/100 [00:05<00:06,  7.30it/s]rslvq.py:168 - Epoch 0050 - Accuracy: 96.98%, Loss: 339612.4781\n",
      "Training Progress:  60%|██████    | 60/100 [00:06<00:04,  9.74it/s]rslvq.py:168 - Epoch 0060 - Accuracy: 96.73%, Loss: 315884.9091\n",
      "Training Progress:  70%|███████   | 70/100 [00:07<00:02, 10.02it/s]rslvq.py:168 - Epoch 0070 - Accuracy: 96.73%, Loss: 307374.8622\n",
      "Training Progress:  80%|████████  | 80/100 [00:08<00:01, 10.26it/s]rslvq.py:168 - Epoch 0080 - Accuracy: 96.73%, Loss: 304700.4163\n",
      "Training Progress:  90%|█████████ | 90/100 [00:09<00:00, 10.36it/s]rslvq.py:168 - Epoch 0090 - Accuracy: 97.24%, Loss: 306216.9302\n",
      "Training Progress: 100%|██████████| 100/100 [00:10<00:00,  9.26it/s]\n",
      "rslvq.py:174 - Training finished\n"
     ]
    }
   ],
   "source": [
    "trained_model.fit(x_train, y_train)"
   ]
  },
  {
   "cell_type": "code",
   "execution_count": 7,
   "metadata": {},
   "outputs": [
    {
     "name": "stdout",
     "output_type": "stream",
     "text": [
      "[1 1 1 1 1 0 1 1 1 1 1 1 0 0 0 1 1 0 1 0 1 1 1 1 0 1 1 0 1 1 1 0 1 0 0 1 1\n",
      " 1 0 1 1 1 1 0 1 1 1 1 1 0 1 0 0 1 1 0 1 1 1 1 1 1 1 0 0 0 1 1 0 1 1 0 1 0\n",
      " 1 0 1 0 1 1 0 1 1 1 0 1 0 1 0 1 0 1 1 0 1 1 1 1 0 1 1 1 0 1 1 0 1 1 0 1 1\n",
      " 1 1 1 1 1 0 1 1 1 0 1 0 1 1 1 0 1 0 0 1 1 0 1 0 0 0 1 1 1 0 1 1 0 1 0 1 1\n",
      " 1 0 1 0 1 1 0 0 1 1 0 1 0 0 1 0 0 1 1 0 0 0 1 1 1 1 0 1 0 0 0 0 1 1 1 1 1\n",
      " 1 1 1 0 0 1 1 0 1 1 1 1 1 0 1 1 0 0 1 0 1 0 1 1 1 1 1 1 0 1 1 0 1 1 1 1 1\n",
      " 1 0 1 1 0 1 0 0 0 1 0 1 1 0 0 0 1 1 1 1 1 1 1 0 1 1 1 0 1 1 0 0 1 0 1 0 0\n",
      " 1 1 0 1 0 0 1 0 0 1 1 0 1 0 1 1 0 1 1 0 0 0 1 1 1 0 0 1 0 0 1 1 1 0 1 0 0\n",
      " 0 0 1 1 0 1 1 0 0 0 0 0 0 1 1 1 1 1 1 1 0 0 0 0 1 1 1 1 0 1 0 1 1 1 1 1 0\n",
      " 0 0 1 1 0 1 1 0 0 0 0 1 1 0 0 1 1 1 0 0 0 1 1 0 1 1 1 1 0 1 1 1 1 1 1 1 1\n",
      " 1 0 1 1 1 1 1 1 0 1 1 0 1 1 0 0 0 1 0 0 1 0 1 1 1 1 0 1]\n"
     ]
    }
   ],
   "source": [
    "print(y_train)"
   ]
  },
  {
   "cell_type": "code",
   "execution_count": 8,
   "metadata": {},
   "outputs": [
    {
     "data": {
      "text/plain": [
       "98.24561403508771"
      ]
     },
     "execution_count": 8,
     "metadata": {},
     "output_type": "execute_result"
    }
   ],
   "source": [
    "#evaluatte on test set\n",
    "trained_model.evaluate(x_val, y_val)"
   ]
  },
  {
   "cell_type": "code",
   "execution_count": 9,
   "metadata": {},
   "outputs": [
    {
     "data": {
      "text/plain": [
       "array([0.72316378, 0.27683622])"
      ]
     },
     "execution_count": 9,
     "metadata": {},
     "output_type": "execute_result"
    }
   ],
   "source": [
    "#use command predict_all for arrays of points\n",
    "trained_model.predict_proba(x_val[1])"
   ]
  },
  {
   "cell_type": "code",
   "execution_count": 10,
   "metadata": {},
   "outputs": [
    {
     "data": {
      "text/plain": [
       "[0]"
      ]
     },
     "execution_count": 10,
     "metadata": {},
     "output_type": "execute_result"
    }
   ],
   "source": [
    "trained_model.predict(x_val[1].reshape((1, len(x_val[0]))))"
   ]
  },
  {
   "cell_type": "code",
   "execution_count": 11,
   "metadata": {},
   "outputs": [
    {
     "data": {
      "text/plain": [
       "(6, 30)"
      ]
     },
     "execution_count": 11,
     "metadata": {},
     "output_type": "execute_result"
    }
   ],
   "source": [
    "trained_model.prototypes.shape"
   ]
  },
  {
   "cell_type": "code",
   "execution_count": 12,
   "metadata": {},
   "outputs": [
    {
     "name": "stderr",
     "output_type": "stream",
     "text": [
      "rslvq.py:92 - Initializing prototypes with random\n"
     ]
    },
    {
     "name": "stdout",
     "output_type": "stream",
     "text": [
      "(2, 30)\n"
     ]
    },
    {
     "name": "stderr",
     "output_type": "stream",
     "text": [
      "Training Progress:   0%|          | 0/100 [00:00<?, ?it/s]rslvq.py:108 - Acc.......94.72, loss......1219.3622\n",
      "Training Progress:   8%|▊         | 8/100 [00:00<00:02, 39.18it/s]rslvq.py:108 - Acc.......96.98, loss......4784.8704\n",
      "Training Progress:  18%|█▊        | 18/100 [00:00<00:01, 42.53it/s]rslvq.py:108 - Acc.......97.24, loss......6137.1799\n",
      "Training Progress:  29%|██▉       | 29/100 [00:00<00:01, 46.84it/s]rslvq.py:108 - Acc.......97.49, loss......6889.6034\n",
      "Training Progress:  39%|███▉      | 39/100 [00:00<00:01, 47.67it/s]rslvq.py:108 - Acc.......97.49, loss......7362.9481\n",
      "Training Progress:  49%|████▉     | 49/100 [00:01<00:01, 47.28it/s]rslvq.py:108 - Acc.......97.49, loss......7675.3590\n",
      "Training Progress:  59%|█████▉    | 59/100 [00:01<00:00, 48.34it/s]rslvq.py:108 - Acc.......97.49, loss......7883.8699\n",
      "Training Progress:  70%|███████   | 70/100 [00:01<00:00, 49.43it/s]rslvq.py:108 - Acc.......97.49, loss......8021.5455\n",
      "Training Progress:  80%|████████  | 80/100 [00:01<00:00, 49.27it/s]rslvq.py:108 - Acc.......97.49, loss......8109.9651\n",
      "Training Progress:  90%|█████████ | 90/100 [00:01<00:00, 49.42it/s]rslvq.py:108 - Acc.......97.49, loss......8164.2060\n",
      "Training Progress: 100%|██████████| 100/100 [00:02<00:00, 47.18it/s]\n",
      "rslvq.py:112 - Training finished\n"
     ]
    },
    {
     "data": {
      "text/plain": [
       "98.24561403508771"
      ]
     },
     "execution_count": 12,
     "metadata": {},
     "output_type": "execute_result"
    }
   ],
   "source": [
    "#try for mean initialization\n",
    "trained_model = RSLVQ(num_prototypes_per_class=1, initialization_type='random')\n",
    "trained_model.fit(x_train, y_train)\n",
    "trained_model.evaluate(x_val, y_val)"
   ]
  },
  {
   "cell_type": "code",
   "execution_count": 8,
   "metadata": {},
   "outputs": [
    {
     "name": "stderr",
     "output_type": "stream",
     "text": [
      "lvq_base.py:156 - Starting 5-fold cross-validation\n",
      "rslvq.py:144 - Initializing prototypes with mean\n",
      "Training Progress:   0%|          | 0/100 [00:00<?, ?it/s]rslvq.py:168 - Epoch 0000 - Accuracy: 92.16%, Loss: 1685.9083\n",
      "Training Progress:  10%|█         | 10/100 [00:00<00:07, 12.61it/s]rslvq.py:168 - Epoch 0010 - Accuracy: 95.92%, Loss: 9057.4491\n",
      "Training Progress:  20%|██        | 20/100 [00:01<00:06, 12.82it/s]rslvq.py:168 - Epoch 0020 - Accuracy: 94.98%, Loss: 17443.0909\n",
      "Training Progress:  30%|███       | 30/100 [00:02<00:05, 12.86it/s]rslvq.py:168 - Epoch 0030 - Accuracy: 95.92%, Loss: 33534.4530\n",
      "Training Progress:  40%|████      | 40/100 [00:03<00:04, 12.66it/s]rslvq.py:168 - Epoch 0040 - Accuracy: 96.87%, Loss: 73475.1103\n",
      "Training Progress:  50%|█████     | 50/100 [00:03<00:03, 12.65it/s]rslvq.py:168 - Epoch 0050 - Accuracy: 96.87%, Loss: 135628.7958\n",
      "Training Progress:  60%|██████    | 60/100 [00:04<00:03, 12.58it/s]rslvq.py:168 - Epoch 0060 - Accuracy: 95.92%, Loss: 225323.4966\n",
      "Training Progress:  70%|███████   | 70/100 [00:05<00:02, 12.63it/s]rslvq.py:168 - Epoch 0070 - Accuracy: 86.52%, Loss: 311085.9648\n",
      "Training Progress:  80%|████████  | 80/100 [00:06<00:01, 12.47it/s]rslvq.py:168 - Epoch 0080 - Accuracy: 89.34%, Loss: 308082.3618\n",
      "Training Progress:  90%|█████████ | 90/100 [00:07<00:00, 12.46it/s]rslvq.py:168 - Epoch 0090 - Accuracy: 91.22%, Loss: 303469.9660\n",
      "Training Progress: 100%|██████████| 100/100 [00:07<00:00, 12.56it/s]\n",
      "rslvq.py:174 - Training finished\n",
      "lvq_base.py:179 - Fold 0: Accuracy = 0.8987\n",
      "rslvq.py:144 - Initializing prototypes with mean\n",
      "Training Progress:   0%|          | 0/100 [00:00<?, ?it/s]rslvq.py:168 - Epoch 0000 - Accuracy: 91.85%, Loss: 1830.5243\n",
      "Training Progress:  10%|█         | 10/100 [00:00<00:07, 12.51it/s]rslvq.py:168 - Epoch 0010 - Accuracy: 96.24%, Loss: 8735.8145\n",
      "Training Progress:  20%|██        | 20/100 [00:01<00:06, 12.67it/s]rslvq.py:168 - Epoch 0020 - Accuracy: 96.55%, Loss: 15878.7208\n",
      "Training Progress:  30%|███       | 30/100 [00:02<00:05, 12.33it/s]rslvq.py:168 - Epoch 0030 - Accuracy: 95.92%, Loss: 27620.4640\n",
      "Training Progress:  40%|████      | 40/100 [00:03<00:04, 12.49it/s]rslvq.py:168 - Epoch 0040 - Accuracy: 95.92%, Loss: 49043.4930\n",
      "Training Progress:  50%|█████     | 50/100 [00:03<00:03, 13.14it/s]rslvq.py:168 - Epoch 0050 - Accuracy: 95.92%, Loss: 100484.6289\n",
      "Training Progress:  60%|██████    | 60/100 [00:04<00:03, 10.96it/s]rslvq.py:168 - Epoch 0060 - Accuracy: 95.61%, Loss: 214306.5275\n",
      "Training Progress:  70%|███████   | 70/100 [00:05<00:02, 12.18it/s]rslvq.py:168 - Epoch 0070 - Accuracy: 90.60%, Loss: 235884.8318\n",
      "Training Progress:  80%|████████  | 80/100 [00:06<00:01, 12.71it/s]rslvq.py:168 - Epoch 0080 - Accuracy: 95.92%, Loss: 264029.0464\n",
      "Training Progress:  90%|█████████ | 90/100 [00:07<00:00, 12.59it/s]rslvq.py:168 - Epoch 0090 - Accuracy: 96.87%, Loss: 431000.0419\n",
      "Training Progress: 100%|██████████| 100/100 [00:08<00:00, 12.33it/s]\n",
      "rslvq.py:174 - Training finished\n",
      "lvq_base.py:179 - Fold 1: Accuracy = 0.7848\n",
      "rslvq.py:144 - Initializing prototypes with mean\n",
      "Training Progress:   0%|          | 0/100 [00:00<?, ?it/s]rslvq.py:168 - Epoch 0000 - Accuracy: 92.16%, Loss: 1680.5504\n",
      "Training Progress:  10%|█         | 10/100 [00:00<00:07, 12.39it/s]rslvq.py:168 - Epoch 0010 - Accuracy: 95.61%, Loss: 8711.0245\n",
      "Training Progress:  20%|██        | 20/100 [00:01<00:06, 12.27it/s]rslvq.py:168 - Epoch 0020 - Accuracy: 96.87%, Loss: 16639.6429\n",
      "Training Progress:  30%|███       | 30/100 [00:02<00:05, 12.80it/s]rslvq.py:168 - Epoch 0030 - Accuracy: 96.55%, Loss: 33027.1237\n",
      "Training Progress:  40%|████      | 40/100 [00:03<00:04, 12.90it/s]rslvq.py:168 - Epoch 0040 - Accuracy: 97.49%, Loss: 100868.0551\n",
      "Training Progress:  50%|█████     | 50/100 [00:04<00:04, 12.36it/s]rslvq.py:168 - Epoch 0050 - Accuracy: 88.71%, Loss: 299299.3069\n",
      "Training Progress:  60%|██████    | 60/100 [00:04<00:03, 12.56it/s]rslvq.py:168 - Epoch 0060 - Accuracy: 96.87%, Loss: 396255.4401\n",
      "Training Progress:  70%|███████   | 70/100 [00:05<00:02, 11.98it/s]rslvq.py:168 - Epoch 0070 - Accuracy: 96.87%, Loss: 393743.3569\n",
      "Training Progress:  80%|████████  | 80/100 [00:06<00:01, 12.00it/s]rslvq.py:168 - Epoch 0080 - Accuracy: 96.87%, Loss: 392373.6644\n",
      "Training Progress:  90%|█████████ | 90/100 [00:07<00:00, 12.77it/s]rslvq.py:168 - Epoch 0090 - Accuracy: 94.04%, Loss: 394338.3603\n",
      "Training Progress: 100%|██████████| 100/100 [00:08<00:00, 12.38it/s]\n",
      "rslvq.py:174 - Training finished\n",
      "lvq_base.py:179 - Fold 2: Accuracy = 0.9873\n",
      "rslvq.py:144 - Initializing prototypes with mean\n",
      "Training Progress:   0%|          | 0/100 [00:00<?, ?it/s]rslvq.py:168 - Epoch 0000 - Accuracy: 93.10%, Loss: 1684.3973\n",
      "Training Progress:  10%|█         | 10/100 [00:00<00:07, 11.47it/s]rslvq.py:168 - Epoch 0010 - Accuracy: 96.24%, Loss: 8932.8338\n",
      "Training Progress:  20%|██        | 20/100 [00:01<00:06, 12.18it/s]rslvq.py:168 - Epoch 0020 - Accuracy: 96.55%, Loss: 16709.7173\n",
      "Training Progress:  30%|███       | 30/100 [00:02<00:05, 12.52it/s]rslvq.py:168 - Epoch 0030 - Accuracy: 97.49%, Loss: 30239.3028\n",
      "Training Progress:  40%|████      | 40/100 [00:03<00:04, 12.70it/s]rslvq.py:168 - Epoch 0040 - Accuracy: 97.18%, Loss: 60214.5350\n",
      "Training Progress:  50%|█████     | 50/100 [00:04<00:04, 12.27it/s]rslvq.py:168 - Epoch 0050 - Accuracy: 96.87%, Loss: 112838.4530\n",
      "Training Progress:  60%|██████    | 60/100 [00:05<00:03, 10.61it/s]rslvq.py:168 - Epoch 0060 - Accuracy: 96.87%, Loss: 166005.8617\n",
      "Training Progress:  70%|███████   | 70/100 [00:05<00:02, 11.87it/s]rslvq.py:168 - Epoch 0070 - Accuracy: 94.36%, Loss: 253528.2457\n",
      "Training Progress:  80%|████████  | 80/100 [00:06<00:01, 12.69it/s]rslvq.py:168 - Epoch 0080 - Accuracy: 95.92%, Loss: 322849.9678\n",
      "Training Progress:  90%|█████████ | 90/100 [00:07<00:00, 12.52it/s]rslvq.py:168 - Epoch 0090 - Accuracy: 95.61%, Loss: 309416.9195\n",
      "Training Progress: 100%|██████████| 100/100 [00:08<00:00, 12.14it/s]\n",
      "rslvq.py:174 - Training finished\n",
      "lvq_base.py:179 - Fold 3: Accuracy = 0.8987\n",
      "rslvq.py:144 - Initializing prototypes with mean\n",
      "Training Progress:   0%|          | 0/100 [00:00<?, ?it/s]rslvq.py:168 - Epoch 0000 - Accuracy: 91.54%, Loss: 1732.5366\n",
      "Training Progress:  10%|█         | 10/100 [00:00<00:07, 12.45it/s]rslvq.py:168 - Epoch 0010 - Accuracy: 95.92%, Loss: 8800.0423\n",
      "Training Progress:  20%|██        | 20/100 [00:01<00:06, 12.85it/s]rslvq.py:168 - Epoch 0020 - Accuracy: 96.87%, Loss: 16930.3570\n",
      "Training Progress:  30%|███       | 30/100 [00:02<00:05, 12.38it/s]rslvq.py:168 - Epoch 0030 - Accuracy: 96.87%, Loss: 33516.9402\n",
      "Training Progress:  40%|████      | 40/100 [00:03<00:04, 12.77it/s]rslvq.py:168 - Epoch 0040 - Accuracy: 97.49%, Loss: 88509.2146\n",
      "Training Progress:  50%|█████     | 50/100 [00:04<00:04, 12.40it/s]rslvq.py:168 - Epoch 0050 - Accuracy: 96.55%, Loss: 151661.3775\n",
      "Training Progress:  60%|██████    | 60/100 [00:04<00:03, 12.27it/s]rslvq.py:168 - Epoch 0060 - Accuracy: 96.87%, Loss: 179989.9905\n",
      "Training Progress:  70%|███████   | 70/100 [00:05<00:02, 13.09it/s]rslvq.py:168 - Epoch 0070 - Accuracy: 96.55%, Loss: 170307.6674\n",
      "Training Progress:  80%|████████  | 80/100 [00:06<00:01, 12.19it/s]rslvq.py:168 - Epoch 0080 - Accuracy: 96.55%, Loss: 165713.0807\n",
      "Training Progress:  90%|█████████ | 90/100 [00:07<00:00, 12.49it/s]rslvq.py:168 - Epoch 0090 - Accuracy: 96.87%, Loss: 162912.1727\n",
      "Training Progress: 100%|██████████| 100/100 [00:08<00:00, 12.48it/s]\n",
      "rslvq.py:174 - Training finished\n",
      "lvq_base.py:179 - Fold 4: Accuracy = 0.9873\n",
      "lvq_base.py:183 - Accuracies: [0.8987341772151899, 0.7848101265822784, 0.9873417721518988, 0.8987341772151899, 0.9873417721518988]\n",
      "lvq_base.py:184 - Mean Accuracy: 0.9113924050632912\n",
      "lvq_base.py:185 - Accuracy Variance: 0.00557602948245474\n",
      "lvq_base.py:187 - Finished Cross Validation\n"
     ]
    }
   ],
   "source": [
    "trained_model.cross_validate(x_train, y_train, 5)"
   ]
  },
  {
   "cell_type": "code",
   "execution_count": null,
   "metadata": {},
   "outputs": [],
   "source": []
  }
 ],
 "metadata": {
  "kernelspec": {
   "display_name": "Python 3",
   "language": "python",
   "name": "python3"
  },
  "language_info": {
   "codemirror_mode": {
    "name": "ipython",
    "version": 3
   },
   "file_extension": ".py",
   "mimetype": "text/x-python",
   "name": "python",
   "nbconvert_exporter": "python",
   "pygments_lexer": "ipython3",
   "version": "3.10.12"
  },
  "orig_nbformat": 4
 },
 "nbformat": 4,
 "nbformat_minor": 2
}
