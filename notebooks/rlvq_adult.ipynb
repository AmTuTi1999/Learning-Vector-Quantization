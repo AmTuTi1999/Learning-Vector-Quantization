{
 "cells": [
  {
   "cell_type": "code",
   "execution_count": 1,
   "metadata": {},
   "outputs": [],
   "source": [
    "import os\n",
    "os.getcwd()\n",
    "os.chdir(\"/home/amadeo-tunyi/Learning-Vector-Quantization/\")\n",
    "\n",
    "\n",
    "from LVQ.rlvq import RLVQ\n",
    "import pandas as pd\n",
    "import numpy as np"
   ]
  },
  {
   "cell_type": "code",
   "execution_count": 2,
   "metadata": {},
   "outputs": [],
   "source": [
    "a_d = pd.read_csv('LVQ/data/new_adult.csv', index_col = [0])\n",
    "income = a_d['income']\n",
    "inc = pd.DataFrame(np.array(income), columns= ['labels'])\n",
    "a_d.drop('income', axis= 1, inplace = True)"
   ]
  },
  {
   "cell_type": "code",
   "execution_count": 3,
   "metadata": {},
   "outputs": [],
   "source": [
    "from sklearn.model_selection import train_test_split\n",
    "\n",
    "# Split dataset into training set and test set\n",
    "x_train, x_val, y_train, y_val = train_test_split(np.array(a_d)[:6000], np.array(inc)[:6000], test_size=0.3, random_state=42)"
   ]
  },
  {
   "cell_type": "code",
   "execution_count": 4,
   "metadata": {},
   "outputs": [
    {
     "name": "stderr",
     "output_type": "stream",
     "text": [
      "Training Progress:   0%|          | 0/100 [00:00<?, ?it/s]"
     ]
    },
    {
     "name": "stderr",
     "output_type": "stream",
     "text": [
      "rlvq.py:192 - Epoch 0000 - Accuracy: 69.05%, Loss: 1920.3231\n",
      "Training Progress:  10%|█         | 10/100 [00:03<00:26,  3.34it/s]rlvq.py:192 - Epoch 0010 - Accuracy: 68.59%, Loss: 1917.9959\n",
      "Training Progress:  20%|██        | 20/100 [00:06<00:24,  3.30it/s]rlvq.py:192 - Epoch 0020 - Accuracy: 69.59%, Loss: 1912.6179\n",
      "Training Progress:  30%|███       | 30/100 [00:09<00:20,  3.38it/s]rlvq.py:192 - Epoch 0030 - Accuracy: 68.65%, Loss: 1911.2704\n",
      "Training Progress:  40%|████      | 40/100 [00:12<00:19,  3.10it/s]rlvq.py:192 - Epoch 0040 - Accuracy: 69.44%, Loss: 1912.1759\n",
      "Training Progress:  50%|█████     | 50/100 [00:16<00:14,  3.43it/s]rlvq.py:192 - Epoch 0050 - Accuracy: 69.44%, Loss: 1911.8409\n",
      "Training Progress:  60%|██████    | 60/100 [00:19<00:12,  3.19it/s]rlvq.py:192 - Epoch 0060 - Accuracy: 68.45%, Loss: 1913.6278\n",
      "Training Progress:  70%|███████   | 70/100 [00:22<00:09,  3.21it/s]rlvq.py:192 - Epoch 0070 - Accuracy: 61.99%, Loss: 1937.0695\n",
      "Training Progress:  80%|████████  | 80/100 [00:25<00:06,  3.28it/s]rlvq.py:192 - Epoch 0080 - Accuracy: 61.97%, Loss: 1935.6846\n",
      "Training Progress:  90%|█████████ | 90/100 [00:30<00:04,  2.32it/s]rlvq.py:192 - Epoch 0090 - Accuracy: 61.97%, Loss: 1935.6846\n",
      "Training Progress: 100%|██████████| 100/100 [00:34<00:00,  2.90it/s]\n",
      "rlvq.py:196 - Training finished\n"
     ]
    }
   ],
   "source": [
    "model = RLVQ(num_prototypes_per_class=3)\n",
    "model.fit(x_train, y_train)"
   ]
  },
  {
   "cell_type": "code",
   "execution_count": 5,
   "metadata": {},
   "outputs": [
    {
     "data": {
      "text/plain": [
       "61.96962962962963"
      ]
     },
     "execution_count": 5,
     "metadata": {},
     "output_type": "execute_result"
    }
   ],
   "source": [
    "model.evaluate(x_val, y_val)"
   ]
  },
  {
   "cell_type": "code",
   "execution_count": 6,
   "metadata": {},
   "outputs": [
    {
     "data": {
      "text/plain": [
       "array([[ 1.59895000e+000,  1.11542364e+000,  6.91420625e-001,\n",
       "         8.68103913e-001,  9.55179124e-001,  5.57288775e-001,\n",
       "         7.82248207e-001, -6.54376019e-002,  6.98718323e-001,\n",
       "         4.44659081e-323,  2.18668338e-001,  8.26133394e-002,\n",
       "        -2.64901276e-003,  2.16782983e-002,  1.62691530e-001,\n",
       "        -6.20533751e-003,  8.24484522e-001],\n",
       "       [ 1.66191733e+000,  1.31781744e+000,  8.67892435e-001,\n",
       "         1.13334993e+001,  8.34155181e-001,  4.70039439e-001,\n",
       "         7.42710973e-001,  2.87359972e-002,  7.33730461e-001,\n",
       "         4.44659081e-323,  1.83319784e-001,  8.29497547e-002,\n",
       "         1.98732164e-003,  7.03455136e-002,  1.36410076e-001,\n",
       "        -8.33212680e-012,  7.91257089e-001],\n",
       "       [ 1.82635767e+000,  7.49564343e-001,  8.35782122e-001,\n",
       "         6.40810657e+000,  7.25327895e-001,  3.76388450e-001,\n",
       "         7.29198601e-001,  8.84585563e-003,  8.61825121e-001,\n",
       "         4.25222232e-003,  1.13907265e-001,  2.00153920e-002,\n",
       "         1.92211093e-003,  3.34706448e-009,  2.05428183e-001,\n",
       "         1.57971346e-004,  7.92491731e-001],\n",
       "       [ 2.50198308e+000,  2.39293401e+000,  8.87884652e-001,\n",
       "         9.32279919e+000, -7.97246834e-001, -3.68687715e-001,\n",
       "         1.48419693e+000,  6.05383098e-001,  4.33215005e-001,\n",
       "        -1.61871237e-002,  1.13888531e-001,  4.69083588e-001,\n",
       "        -7.01365673e-002, -4.01324857e-002,  1.01118556e-002,\n",
       "         9.25833984e-187,  1.10015720e+000],\n",
       "       [ 2.82256944e+000,  2.71943960e+000,  1.01756221e+000,\n",
       "         2.56175088e+000, -3.48040493e-001, -7.69527105e-002,\n",
       "         1.52459529e+000,  3.25268967e-001,  6.14837815e-001,\n",
       "         0.00000000e+000,  1.65005782e-001,  2.20156403e-001,\n",
       "        -1.69843587e-002,  1.29922685e-002, -6.01845639e-002,\n",
       "        -3.07497588e-003,  1.06725163e+000],\n",
       "       [ 2.03829757e+000,  1.21488027e+000,  7.42817532e-001,\n",
       "         6.77978545e+000, -1.54875292e+000, -5.03579788e-001,\n",
       "         1.11162899e+000,  1.04260574e-001,  1.73765503e+000,\n",
       "         0.00000000e+000,  0.00000000e+000, -6.81943755e-001,\n",
       "         0.00000000e+000,  0.00000000e+000, -2.23032003e-001,\n",
       "         0.00000000e+000,  1.27183756e+000]])"
      ]
     },
     "execution_count": 6,
     "metadata": {},
     "output_type": "execute_result"
    }
   ],
   "source": [
    "model._prototypes"
   ]
  },
  {
   "cell_type": "code",
   "execution_count": 7,
   "metadata": {},
   "outputs": [
    {
     "data": {
      "text/plain": [
       "1.0"
      ]
     },
     "execution_count": 7,
     "metadata": {},
     "output_type": "execute_result"
    }
   ],
   "source": [
    "model._weights.sum().item()"
   ]
  },
  {
   "cell_type": "code",
   "execution_count": 8,
   "metadata": {},
   "outputs": [
    {
     "name": "stderr",
     "output_type": "stream",
     "text": [
      "Training Progress:   0%|          | 0/100 [00:00<?, ?it/s]rlvq.py:192 - Epoch 0000 - Accuracy: 74.02%, Loss: 1878.0178\n",
      "Training Progress:  10%|█         | 10/100 [00:02<00:21,  4.11it/s]rlvq.py:192 - Epoch 0010 - Accuracy: 74.19%, Loss: 1877.1222\n",
      "Training Progress:  20%|██        | 20/100 [00:05<00:23,  3.35it/s]rlvq.py:192 - Epoch 0020 - Accuracy: 74.19%, Loss: 1877.0323\n",
      "Training Progress:  30%|███       | 30/100 [00:08<00:20,  3.45it/s]rlvq.py:192 - Epoch 0030 - Accuracy: 74.42%, Loss: 1876.0333\n",
      "Training Progress:  40%|████      | 40/100 [00:11<00:20,  2.93it/s]rlvq.py:192 - Epoch 0040 - Accuracy: 74.49%, Loss: 1875.2442\n",
      "Training Progress:  50%|█████     | 50/100 [00:14<00:12,  3.97it/s]rlvq.py:192 - Epoch 0050 - Accuracy: 74.49%, Loss: 1875.2442\n",
      "Training Progress:  60%|██████    | 60/100 [00:17<00:10,  3.98it/s]rlvq.py:192 - Epoch 0060 - Accuracy: 74.49%, Loss: 1875.2442\n",
      "Training Progress:  70%|███████   | 70/100 [00:20<00:08,  3.37it/s]rlvq.py:192 - Epoch 0070 - Accuracy: 74.49%, Loss: 1875.2442\n",
      "Training Progress:  80%|████████  | 80/100 [00:23<00:05,  3.67it/s]rlvq.py:192 - Epoch 0080 - Accuracy: 74.49%, Loss: 1875.2442\n",
      "Training Progress:  90%|█████████ | 90/100 [00:26<00:03,  3.14it/s]rlvq.py:192 - Epoch 0090 - Accuracy: 74.49%, Loss: 1875.2442\n",
      "Training Progress: 100%|██████████| 100/100 [00:29<00:00,  3.37it/s]\n",
      "rlvq.py:196 - Training finished\n"
     ]
    },
    {
     "data": {
      "text/plain": [
       "74.8320987654321"
      ]
     },
     "execution_count": 8,
     "metadata": {},
     "output_type": "execute_result"
    }
   ],
   "source": [
    "#try for random initialization\n",
    "trained_model = RLVQ(num_prototypes_per_class=1, initialization_type='random')\n",
    "trained_model.fit(x_train, y_train)\n",
    "trained_model.evaluate(x_val, y_val)"
   ]
  },
  {
   "cell_type": "code",
   "execution_count": 9,
   "metadata": {},
   "outputs": [
    {
     "data": {
      "text/plain": [
       "array([0.05882353, 0.05882353, 0.05882353, 0.05882353, 0.05882353,\n",
       "       0.05882353, 0.05882353, 0.05882353, 0.05882353, 0.05882353,\n",
       "       0.05882353, 0.05882353, 0.05882353, 0.05882353, 0.05882353,\n",
       "       0.05882353, 0.05882353])"
      ]
     },
     "execution_count": 9,
     "metadata": {},
     "output_type": "execute_result"
    }
   ],
   "source": [
    "trained_model._weights"
   ]
  },
  {
   "cell_type": "code",
   "execution_count": null,
   "metadata": {},
   "outputs": [],
   "source": []
  }
 ],
 "metadata": {
  "kernelspec": {
   "display_name": "Python 3",
   "language": "python",
   "name": "python3"
  },
  "language_info": {
   "codemirror_mode": {
    "name": "ipython",
    "version": 3
   },
   "file_extension": ".py",
   "mimetype": "text/x-python",
   "name": "python",
   "nbconvert_exporter": "python",
   "pygments_lexer": "ipython3",
   "version": "3.10.12"
  },
  "orig_nbformat": 4
 },
 "nbformat": 4,
 "nbformat_minor": 2
}
