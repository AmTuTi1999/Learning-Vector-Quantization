{
 "cells": [
  {
   "cell_type": "code",
   "execution_count": 1,
   "metadata": {},
   "outputs": [],
   "source": [
    "from lvq_models import GLVQ, GRLVQ\n",
    "import pandas as pd\n",
    "import numpy as np"
   ]
  },
  {
   "cell_type": "code",
   "execution_count": 2,
   "metadata": {},
   "outputs": [],
   "source": [
    "b_c_data = pd.read_csv('data.csv')\n",
    "b_c_data.columns\n",
    "b_c_data.drop(['id', 'Unnamed: 32'], axis = 1, inplace= True)\n",
    "label = b_c_data['diagnosis'].replace({'M': 0, 'B': 1})\n",
    "train_data = b_c_data.drop(['diagnosis'], axis = 1)"
   ]
  },
  {
   "cell_type": "code",
   "execution_count": 3,
   "metadata": {},
   "outputs": [],
   "source": [
    "#scale data between 0 and 1\n",
    "from sklearn.preprocessing import MinMaxScaler\n",
    "scale = MinMaxScaler()\n",
    "X = scale.fit_transform(train_data)\n",
    "norm_t_data = pd.DataFrame(X, columns = train_data.columns, index = train_data.index)"
   ]
  },
  {
   "cell_type": "code",
   "execution_count": 4,
   "metadata": {},
   "outputs": [],
   "source": [
    "from sklearn.model_selection import train_test_split\n",
    "\n",
    "# Split dataset into training set and test set\n",
    "x_train, x_val, y_train, y_val = train_test_split(np.array(norm_t_data), np.array(label), test_size=0.3, random_state=42)"
   ]
  },
  {
   "cell_type": "code",
   "execution_count": 48,
   "metadata": {},
   "outputs": [],
   "source": [
    "trained_model = GRLVQ(num_prototypes_per_class=2, initialization_type='mean', prototype_update_learning_rate=1e-3, weight_update_learning_rate=1e-5)"
   ]
  },
  {
   "cell_type": "code",
   "execution_count": 49,
   "metadata": {},
   "outputs": [
    {
     "name": "stderr",
     "output_type": "stream",
     "text": [
      "Training:   0%|          | 0/100 [00:00<?, ?epoch/s]"
     ]
    },
    {
     "name": "stderr",
     "output_type": "stream",
     "text": [
      "Training: 100%|██████████| 100/100 [00:09<00:00, 10.56epoch/s]\n"
     ]
    },
    {
     "data": {
      "text/plain": [
       "(array([[0.26247459, 0.26978355, 0.25499196, 0.15017987, 0.37588787,\n",
       "         0.19438828, 0.11704084, 0.14626668, 0.31911759, 0.27445612,\n",
       "         0.06695128, 0.19068789, 0.06348861, 0.03184861, 0.15836675,\n",
       "         0.14348314, 0.06911594, 0.19570189, 0.16931902, 0.08592928,\n",
       "         0.21149251, 0.30801543, 0.19836604, 0.10488184, 0.36017298,\n",
       "         0.15935008, 0.14891437, 0.28472834, 0.23196536, 0.16546377],\n",
       "        [0.21992663, 0.26789039, 0.20818886, 0.12057352, 0.31697904,\n",
       "         0.13951632, 0.03782441, 0.07353667, 0.40618767, 0.1980241 ,\n",
       "         0.05366317, 0.14210524, 0.04250918, 0.04505642, 0.09912977,\n",
       "         0.10925704, 0.04044722, 0.1228542 , 0.09773158, 0.04841977,\n",
       "         0.19160345, 0.31951894, 0.16569153, 0.11067745, 0.36987473,\n",
       "         0.10962545, 0.0659712 , 0.18042467, 0.27046326, 0.15105388],\n",
       "        [0.24835962, 0.2748376 , 0.24068744, 0.13806812, 0.35689349,\n",
       "         0.18674071, 0.10893592, 0.12775292, 0.3384812 , 0.27134739,\n",
       "         0.06190818, 0.18450393, 0.05909901, 0.02700066, 0.18558703,\n",
       "         0.14516009, 0.066824  , 0.18989708, 0.17284266, 0.09580076,\n",
       "         0.19682772, 0.30297844, 0.18551741, 0.09370386, 0.35250956,\n",
       "         0.15039802, 0.13280621, 0.2570204 , 0.21863603, 0.16112779],\n",
       "        [0.22807516, 0.25532634, 0.21746942, 0.12233298, 0.34521982,\n",
       "         0.13170971, 0.0668463 , 0.08141153, 0.39747475, 0.21545914,\n",
       "         0.08412095, 0.17233911, 0.06917024, 0.03410173, 0.12747731,\n",
       "         0.13059152, 0.0525    , 0.10225421, 0.09692126, 0.07518345,\n",
       "         0.1963714 , 0.33235608, 0.17724986, 0.09260716, 0.35151555,\n",
       "         0.14098049, 0.11573482, 0.18405498, 0.23930613, 0.17165158]]),\n",
       " array([0, 0, 1, 1]),\n",
       " array([0.04048942, 0.04398745, 0.03955115, 0.02806729, 0.04042508,\n",
       "        0.03406588, 0.03408065, 0.03739362, 0.04591669, 0.04213711,\n",
       "        0.01477646, 0.03749106, 0.01111224, 0.00381027, 0.03060558,\n",
       "        0.02996217, 0.00842249, 0.03057233, 0.03242039, 0.01717733,\n",
       "        0.03818031, 0.05599931, 0.03659856, 0.02138939, 0.04916154,\n",
       "        0.03270069, 0.03814801, 0.05799854, 0.03718485, 0.03017413]),\n",
       " 197.9664907264586)"
      ]
     },
     "execution_count": 49,
     "metadata": {},
     "output_type": "execute_result"
    }
   ],
   "source": [
    "trained_model.fit(x_train, y_train, decay_scheme= True)"
   ]
  },
  {
   "cell_type": "code",
   "execution_count": 50,
   "metadata": {},
   "outputs": [
    {
     "data": {
      "text/plain": [
       "61.98830409356725"
      ]
     },
     "execution_count": 50,
     "metadata": {},
     "output_type": "execute_result"
    }
   ],
   "source": [
    "#evaluatte on test set\n",
    "trained_model.evaluate(x_val, y_val)"
   ]
  },
  {
   "cell_type": "code",
   "execution_count": 43,
   "metadata": {},
   "outputs": [
    {
     "data": {
      "text/plain": [
       "array([0, 0, 0, 1, 1, 0, 0, 1, 1, 1, 0, 1, 1, 1, 1, 1, 1, 1, 1, 1, 0, 0,\n",
       "       0, 1, 1, 1, 1, 0, 0, 0, 1, 1, 1, 0, 1, 1, 0, 1, 0, 0, 1, 0, 1, 0,\n",
       "       1, 0, 1, 1, 0, 1, 0, 0, 1, 1, 1, 0, 1, 0, 0, 1, 0, 1, 0, 1, 1, 0,\n",
       "       0, 1, 0, 1, 0, 1, 0, 0, 1, 1, 0, 0, 1, 1, 0, 1, 1, 1, 0, 1, 1, 1,\n",
       "       1, 0, 1, 0, 1, 1, 1, 1, 0, 0, 1, 0, 0, 1, 1, 0, 1, 0, 0, 0, 1, 0,\n",
       "       0, 1, 0, 0, 1, 1, 1, 0, 1, 0, 1, 1, 1, 0, 1, 0, 0, 1, 1, 0, 1, 0,\n",
       "       1, 1, 0, 1, 0, 0, 1, 0, 0, 0, 1, 1, 0, 1, 0, 1, 0, 1, 0, 1, 1, 0,\n",
       "       1, 1, 0, 1, 0, 1, 1, 1, 1, 1, 0, 1, 0, 0, 1, 1, 1])"
      ]
     },
     "execution_count": 43,
     "metadata": {},
     "output_type": "execute_result"
    }
   ],
   "source": [
    "#use command predict_all for arrays of points\n",
    "trained_model.predict_all(x_val)"
   ]
  },
  {
   "cell_type": "code",
   "execution_count": 44,
   "metadata": {},
   "outputs": [
    {
     "data": {
      "text/plain": [
       "1"
      ]
     },
     "execution_count": 44,
     "metadata": {},
     "output_type": "execute_result"
    }
   ],
   "source": [
    "trained_model.predict(norm_t_data.iloc[0])"
   ]
  },
  {
   "cell_type": "code",
   "execution_count": null,
   "metadata": {},
   "outputs": [],
   "source": []
  }
 ],
 "metadata": {
  "kernelspec": {
   "display_name": "Python 3",
   "language": "python",
   "name": "python3"
  },
  "language_info": {
   "codemirror_mode": {
    "name": "ipython",
    "version": 3
   },
   "file_extension": ".py",
   "mimetype": "text/x-python",
   "name": "python",
   "nbconvert_exporter": "python",
   "pygments_lexer": "ipython3",
   "version": "3.10.11"
  },
  "orig_nbformat": 4
 },
 "nbformat": 4,
 "nbformat_minor": 2
}
