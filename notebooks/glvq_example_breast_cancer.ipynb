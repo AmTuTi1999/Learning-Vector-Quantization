{
 "cells": [
  {
   "cell_type": "code",
   "execution_count": 1,
   "metadata": {},
   "outputs": [],
   "source": [
    "import os\n",
    "os.getcwd()\n",
    "os.chdir(\"/home/amadeo-tunyi/Learning-Vector-Quantization/\")"
   ]
  },
  {
   "cell_type": "code",
   "execution_count": 2,
   "metadata": {},
   "outputs": [],
   "source": [
    "from LVQ.glvq_models import GLVQ, GRLVQ\n",
    "import pandas as pd\n",
    "import numpy as np"
   ]
  },
  {
   "cell_type": "code",
   "execution_count": 3,
   "metadata": {},
   "outputs": [
    {
     "name": "stderr",
     "output_type": "stream",
     "text": [
      "/tmp/ipykernel_63407/1174392148.py:4: FutureWarning: Downcasting behavior in `replace` is deprecated and will be removed in a future version. To retain the old behavior, explicitly call `result.infer_objects(copy=False)`. To opt-in to the future behavior, set `pd.set_option('future.no_silent_downcasting', True)`\n",
      "  label = b_c_data['diagnosis'].replace({'M': 0, 'B': 1})\n"
     ]
    }
   ],
   "source": [
    "b_c_data = pd.read_csv('LVQ/data/data.csv')\n",
    "b_c_data.columns\n",
    "b_c_data.drop(['id', 'Unnamed: 32'], axis = 1, inplace= True)\n",
    "label = b_c_data['diagnosis'].replace({'M': 0, 'B': 1})\n",
    "train_data = b_c_data.drop(['diagnosis'], axis = 1)"
   ]
  },
  {
   "cell_type": "code",
   "execution_count": 4,
   "metadata": {},
   "outputs": [],
   "source": [
    "#scale data between 0 and 1\n",
    "from sklearn.preprocessing import MinMaxScaler\n",
    "scale = MinMaxScaler()\n",
    "X = scale.fit_transform(train_data)\n",
    "norm_t_data = pd.DataFrame(X, columns = train_data.columns, index = train_data.index)"
   ]
  },
  {
   "cell_type": "code",
   "execution_count": 5,
   "metadata": {},
   "outputs": [],
   "source": [
    "from sklearn.model_selection import train_test_split\n",
    "\n",
    "# Split dataset into training set and test set\n",
    "x_train, x_val, y_train, y_val = train_test_split(np.array(norm_t_data), np.array(label), test_size=0.3, random_state=42)"
   ]
  },
  {
   "cell_type": "code",
   "execution_count": 6,
   "metadata": {},
   "outputs": [],
   "source": [
    "trained_model = GRLVQ(num_prototypes_per_class=2, initialization_type='mean', learning_rate=1e-3, weight_update_learning_rate=1e-5)"
   ]
  },
  {
   "cell_type": "code",
   "execution_count": 7,
   "metadata": {},
   "outputs": [
    {
     "name": "stderr",
     "output_type": "stream",
     "text": [
      "Training Progress:   0%|          | 0/100 [00:00<?, ?it/s]glvq_models.py:364 - Epoch 0000 - Accuracy: 93.97%, Loss: 167.0609\n",
      "Training Progress:   9%|▉         | 9/100 [00:00<00:04, 18.84it/s]glvq_models.py:364 - Epoch 0010 - Accuracy: 90.45%, Loss: 174.2609\n",
      "Training Progress:  18%|█▊        | 18/100 [00:00<00:03, 23.14it/s]glvq_models.py:364 - Epoch 0020 - Accuracy: 89.45%, Loss: 176.6425\n",
      "Training Progress:  28%|██▊       | 28/100 [00:01<00:02, 26.62it/s]glvq_models.py:364 - Epoch 0030 - Accuracy: 89.20%, Loss: 176.9664\n",
      "Training Progress:  38%|███▊      | 38/100 [00:01<00:02, 25.78it/s]glvq_models.py:364 - Epoch 0040 - Accuracy: 89.20%, Loss: 176.9845\n",
      "Training Progress:  48%|████▊     | 48/100 [00:01<00:01, 27.88it/s]glvq_models.py:364 - Epoch 0050 - Accuracy: 89.20%, Loss: 176.9849\n",
      "Training Progress:  58%|█████▊    | 58/100 [00:02<00:01, 28.99it/s]glvq_models.py:364 - Epoch 0060 - Accuracy: 89.20%, Loss: 176.9849\n",
      "Training Progress:  68%|██████▊   | 68/100 [00:02<00:01, 28.61it/s]glvq_models.py:364 - Epoch 0070 - Accuracy: 89.20%, Loss: 176.9849\n",
      "Training Progress:  80%|████████  | 80/100 [00:03<00:00, 26.18it/s]glvq_models.py:364 - Epoch 0080 - Accuracy: 89.20%, Loss: 176.9849\n",
      "Training Progress:  90%|█████████ | 90/100 [00:03<00:00, 27.48it/s]glvq_models.py:364 - Epoch 0090 - Accuracy: 89.20%, Loss: 176.9849\n",
      "Training Progress: 100%|██████████| 100/100 [00:03<00:00, 25.76it/s]\n",
      "glvq_models.py:373 - Training finished\n"
     ]
    }
   ],
   "source": [
    "trained_model.fit(x_train, y_train, decay_scheme= True)"
   ]
  },
  {
   "cell_type": "code",
   "execution_count": 8,
   "metadata": {},
   "outputs": [
    {
     "data": {
      "text/plain": [
       "93.56725146198829"
      ]
     },
     "execution_count": 8,
     "metadata": {},
     "output_type": "execute_result"
    }
   ],
   "source": [
    "#evaluatte on test set\n",
    "trained_model.evaluate(x_val, y_val)"
   ]
  },
  {
   "cell_type": "code",
   "execution_count": 9,
   "metadata": {},
   "outputs": [
    {
     "data": {
      "text/plain": [
       "[0]"
      ]
     },
     "execution_count": 9,
     "metadata": {},
     "output_type": "execute_result"
    }
   ],
   "source": [
    "trained_model.predict(np.array(norm_t_data)[0].reshape((1, 30)))"
   ]
  },
  {
   "cell_type": "code",
   "execution_count": 11,
   "metadata": {},
   "outputs": [
    {
     "name": "stderr",
     "output_type": "stream",
     "text": [
      "lvq_base.py:156 - Starting 8-fold cross-validation\n",
      "Training Progress:   0%|          | 0/100 [00:00<?, ?it/s]glvq_models.py:364 - Epoch 0000 - Accuracy: 94.56%, Loss: 145.5464\n",
      "Training Progress:   7%|▋         | 7/100 [00:00<00:02, 31.72it/s]glvq_models.py:364 - Epoch 0010 - Accuracy: 94.56%, Loss: 145.5464\n",
      "Training Progress:  19%|█▉        | 19/100 [00:00<00:02, 31.52it/s]glvq_models.py:364 - Epoch 0020 - Accuracy: 94.56%, Loss: 145.5464\n",
      "Training Progress:  27%|██▋       | 27/100 [00:00<00:02, 32.80it/s]glvq_models.py:364 - Epoch 0030 - Accuracy: 94.56%, Loss: 145.5464\n",
      "Training Progress:  39%|███▉      | 39/100 [00:01<00:01, 31.60it/s]glvq_models.py:364 - Epoch 0040 - Accuracy: 94.56%, Loss: 145.5464\n",
      "Training Progress:  47%|████▋     | 47/100 [00:01<00:01, 30.17it/s]glvq_models.py:364 - Epoch 0050 - Accuracy: 94.56%, Loss: 145.5464\n",
      "Training Progress:  59%|█████▉    | 59/100 [00:01<00:01, 31.46it/s]glvq_models.py:364 - Epoch 0060 - Accuracy: 94.56%, Loss: 145.5464\n",
      "Training Progress:  67%|██████▋   | 67/100 [00:02<00:01, 30.54it/s]glvq_models.py:364 - Epoch 0070 - Accuracy: 94.56%, Loss: 145.5464\n",
      "Training Progress:  77%|███████▋  | 77/100 [00:02<00:00, 28.10it/s]glvq_models.py:364 - Epoch 0080 - Accuracy: 94.56%, Loss: 145.5464\n",
      "Training Progress:  89%|████████▉ | 89/100 [00:02<00:00, 28.26it/s]glvq_models.py:364 - Epoch 0090 - Accuracy: 94.56%, Loss: 145.5464\n",
      "Training Progress: 100%|██████████| 100/100 [00:03<00:00, 29.64it/s]\n",
      "glvq_models.py:373 - Training finished\n",
      "lvq_base.py:179 - Fold 0: Accuracy = 0.8980\n",
      "Training Progress:   0%|          | 0/100 [00:00<?, ?it/s]glvq_models.py:364 - Epoch 0000 - Accuracy: 94.84%, Loss: 145.5575\n",
      "Training Progress:   9%|▉         | 9/100 [00:00<00:03, 24.84it/s]glvq_models.py:364 - Epoch 0010 - Accuracy: 94.84%, Loss: 145.5575\n",
      "Training Progress:  19%|█▉        | 19/100 [00:00<00:02, 29.68it/s]glvq_models.py:364 - Epoch 0020 - Accuracy: 94.84%, Loss: 145.5575\n",
      "Training Progress:  29%|██▉       | 29/100 [00:01<00:02, 29.34it/s]glvq_models.py:364 - Epoch 0030 - Accuracy: 94.84%, Loss: 145.5575\n",
      "Training Progress:  40%|████      | 40/100 [00:01<00:02, 29.77it/s]glvq_models.py:364 - Epoch 0040 - Accuracy: 94.84%, Loss: 145.5575\n",
      "Training Progress:  47%|████▋     | 47/100 [00:01<00:01, 30.87it/s]glvq_models.py:364 - Epoch 0050 - Accuracy: 94.84%, Loss: 145.5575\n",
      "Training Progress:  60%|██████    | 60/100 [00:02<00:01, 25.10it/s]glvq_models.py:364 - Epoch 0060 - Accuracy: 94.84%, Loss: 145.5575\n",
      "Training Progress:  69%|██████▉   | 69/100 [00:02<00:01, 25.41it/s]glvq_models.py:364 - Epoch 0070 - Accuracy: 94.84%, Loss: 145.5575\n",
      "Training Progress:  79%|███████▉  | 79/100 [00:02<00:00, 26.46it/s]glvq_models.py:364 - Epoch 0080 - Accuracy: 94.84%, Loss: 145.5575\n",
      "Training Progress:  90%|█████████ | 90/100 [00:03<00:00, 30.67it/s]glvq_models.py:364 - Epoch 0090 - Accuracy: 94.84%, Loss: 145.5575\n",
      "Training Progress: 100%|██████████| 100/100 [00:03<00:00, 27.59it/s]\n",
      "glvq_models.py:373 - Training finished\n",
      "lvq_base.py:179 - Fold 1: Accuracy = 0.8980\n",
      "Training Progress:   0%|          | 0/100 [00:00<?, ?it/s]glvq_models.py:364 - Epoch 0000 - Accuracy: 93.41%, Loss: 146.1938\n",
      "Training Progress:   8%|▊         | 8/100 [00:00<00:02, 34.60it/s]glvq_models.py:364 - Epoch 0010 - Accuracy: 93.41%, Loss: 146.1938\n",
      "Training Progress:  20%|██        | 20/100 [00:00<00:02, 30.90it/s]glvq_models.py:364 - Epoch 0020 - Accuracy: 93.41%, Loss: 146.1938\n",
      "Training Progress:  28%|██▊       | 28/100 [00:00<00:02, 31.97it/s]glvq_models.py:364 - Epoch 0030 - Accuracy: 93.41%, Loss: 146.1938\n",
      "Training Progress:  40%|████      | 40/100 [00:01<00:02, 28.42it/s]glvq_models.py:364 - Epoch 0040 - Accuracy: 93.41%, Loss: 146.1938\n",
      "Training Progress:  48%|████▊     | 48/100 [00:01<00:01, 31.41it/s]glvq_models.py:364 - Epoch 0050 - Accuracy: 93.41%, Loss: 146.1938\n",
      "Training Progress:  60%|██████    | 60/100 [00:01<00:01, 33.65it/s]glvq_models.py:364 - Epoch 0060 - Accuracy: 93.41%, Loss: 146.1938\n",
      "Training Progress:  68%|██████▊   | 68/100 [00:02<00:00, 32.31it/s]glvq_models.py:364 - Epoch 0070 - Accuracy: 93.41%, Loss: 146.1938\n",
      "Training Progress:  80%|████████  | 80/100 [00:02<00:00, 32.80it/s]glvq_models.py:364 - Epoch 0080 - Accuracy: 93.41%, Loss: 146.1938\n",
      "Training Progress:  88%|████████▊ | 88/100 [00:02<00:00, 28.94it/s]glvq_models.py:364 - Epoch 0090 - Accuracy: 93.41%, Loss: 146.1938\n",
      "Training Progress: 100%|██████████| 100/100 [00:03<00:00, 31.63it/s]\n",
      "glvq_models.py:373 - Training finished\n",
      "lvq_base.py:179 - Fold 2: Accuracy = 0.9796\n",
      "Training Progress:   0%|          | 0/100 [00:00<?, ?it/s]glvq_models.py:364 - Epoch 0000 - Accuracy: 94.56%, Loss: 145.2505\n",
      "Training Progress:   9%|▉         | 9/100 [00:00<00:03, 26.18it/s]glvq_models.py:364 - Epoch 0010 - Accuracy: 94.56%, Loss: 145.2505\n",
      "Training Progress:  17%|█▋        | 17/100 [00:00<00:02, 31.50it/s]glvq_models.py:364 - Epoch 0020 - Accuracy: 94.56%, Loss: 145.2505\n",
      "Training Progress:  29%|██▉       | 29/100 [00:00<00:02, 31.76it/s]glvq_models.py:364 - Epoch 0030 - Accuracy: 94.56%, Loss: 145.2505\n",
      "Training Progress:  37%|███▋      | 37/100 [00:01<00:01, 31.60it/s]glvq_models.py:364 - Epoch 0040 - Accuracy: 94.56%, Loss: 145.2505\n",
      "Training Progress:  49%|████▉     | 49/100 [00:01<00:01, 30.08it/s]glvq_models.py:364 - Epoch 0050 - Accuracy: 94.56%, Loss: 145.2505\n",
      "Training Progress:  57%|█████▋    | 57/100 [00:01<00:01, 31.97it/s]glvq_models.py:364 - Epoch 0060 - Accuracy: 94.56%, Loss: 145.2505\n",
      "Training Progress:  69%|██████▉   | 69/100 [00:02<00:00, 31.73it/s]glvq_models.py:364 - Epoch 0070 - Accuracy: 94.56%, Loss: 145.2505\n",
      "Training Progress:  77%|███████▋  | 77/100 [00:02<00:00, 29.41it/s]glvq_models.py:364 - Epoch 0080 - Accuracy: 94.56%, Loss: 145.2505\n",
      "Training Progress:  89%|████████▉ | 89/100 [00:02<00:00, 30.23it/s]glvq_models.py:364 - Epoch 0090 - Accuracy: 94.56%, Loss: 145.2505\n",
      "Training Progress: 100%|██████████| 100/100 [00:03<00:00, 30.90it/s]\n",
      "glvq_models.py:373 - Training finished\n",
      "lvq_base.py:179 - Fold 3: Accuracy = 0.9184\n",
      "Training Progress:   0%|          | 0/100 [00:00<?, ?it/s]glvq_models.py:364 - Epoch 0000 - Accuracy: 93.98%, Loss: 145.5245\n",
      "Training Progress:   7%|▋         | 7/100 [00:00<00:03, 30.95it/s]glvq_models.py:364 - Epoch 0010 - Accuracy: 93.98%, Loss: 145.5245\n",
      "Training Progress:  18%|█▊        | 18/100 [00:00<00:02, 28.65it/s]glvq_models.py:364 - Epoch 0020 - Accuracy: 93.98%, Loss: 145.5245\n",
      "Training Progress:  29%|██▉       | 29/100 [00:01<00:02, 27.10it/s]glvq_models.py:364 - Epoch 0030 - Accuracy: 93.98%, Loss: 145.5245\n",
      "Training Progress:  39%|███▉      | 39/100 [00:01<00:02, 26.11it/s]glvq_models.py:364 - Epoch 0040 - Accuracy: 93.98%, Loss: 145.5245\n",
      "Training Progress:  49%|████▉     | 49/100 [00:01<00:01, 29.18it/s]glvq_models.py:364 - Epoch 0050 - Accuracy: 93.98%, Loss: 145.5245\n",
      "Training Progress:  57%|█████▋    | 57/100 [00:01<00:01, 31.55it/s]glvq_models.py:364 - Epoch 0060 - Accuracy: 93.98%, Loss: 145.5245\n",
      "Training Progress:  69%|██████▉   | 69/100 [00:02<00:00, 32.81it/s]glvq_models.py:364 - Epoch 0070 - Accuracy: 93.98%, Loss: 145.5245\n",
      "Training Progress:  77%|███████▋  | 77/100 [00:02<00:00, 30.23it/s]glvq_models.py:364 - Epoch 0080 - Accuracy: 93.98%, Loss: 145.5245\n",
      "Training Progress:  89%|████████▉ | 89/100 [00:02<00:00, 30.38it/s]glvq_models.py:364 - Epoch 0090 - Accuracy: 93.98%, Loss: 145.5245\n",
      "Training Progress: 100%|██████████| 100/100 [00:03<00:00, 29.76it/s]\n",
      "glvq_models.py:373 - Training finished\n",
      "lvq_base.py:179 - Fold 4: Accuracy = 0.9388\n",
      "Training Progress:   0%|          | 0/100 [00:00<?, ?it/s]glvq_models.py:364 - Epoch 0000 - Accuracy: 93.98%, Loss: 145.5964\n",
      "Training Progress:  10%|█         | 10/100 [00:00<00:02, 30.10it/s]glvq_models.py:364 - Epoch 0010 - Accuracy: 93.98%, Loss: 145.5964\n",
      "Training Progress:  18%|█▊        | 18/100 [00:00<00:02, 32.22it/s]glvq_models.py:364 - Epoch 0020 - Accuracy: 93.98%, Loss: 145.5964\n",
      "Training Progress:  30%|███       | 30/100 [00:00<00:02, 29.77it/s]glvq_models.py:364 - Epoch 0030 - Accuracy: 93.98%, Loss: 145.5964\n",
      "Training Progress:  39%|███▉      | 39/100 [00:01<00:02, 28.22it/s]glvq_models.py:364 - Epoch 0040 - Accuracy: 93.98%, Loss: 145.5964\n",
      "Training Progress:  49%|████▉     | 49/100 [00:01<00:01, 28.87it/s]glvq_models.py:364 - Epoch 0050 - Accuracy: 93.98%, Loss: 145.5964\n",
      "Training Progress:  60%|██████    | 60/100 [00:02<00:01, 29.16it/s]glvq_models.py:364 - Epoch 0060 - Accuracy: 93.98%, Loss: 145.5964\n",
      "Training Progress:  67%|██████▋   | 67/100 [00:02<00:01, 29.91it/s]glvq_models.py:364 - Epoch 0070 - Accuracy: 93.98%, Loss: 145.5964\n",
      "Training Progress:  79%|███████▉  | 79/100 [00:02<00:00, 31.38it/s]glvq_models.py:364 - Epoch 0080 - Accuracy: 93.98%, Loss: 145.5964\n",
      "Training Progress:  87%|████████▋ | 87/100 [00:02<00:00, 30.42it/s]glvq_models.py:364 - Epoch 0090 - Accuracy: 93.98%, Loss: 145.5964\n",
      "Training Progress: 100%|██████████| 100/100 [00:03<00:00, 29.67it/s]\n",
      "glvq_models.py:373 - Training finished\n",
      "lvq_base.py:179 - Fold 5: Accuracy = 0.9796\n",
      "Training Progress:   0%|          | 0/100 [00:00<?, ?it/s]glvq_models.py:364 - Epoch 0000 - Accuracy: 93.98%, Loss: 145.7248\n",
      "Training Progress:   8%|▊         | 8/100 [00:00<00:02, 33.65it/s]glvq_models.py:364 - Epoch 0010 - Accuracy: 93.98%, Loss: 145.7248\n",
      "Training Progress:  20%|██        | 20/100 [00:00<00:02, 30.71it/s]glvq_models.py:364 - Epoch 0020 - Accuracy: 93.98%, Loss: 145.7248\n",
      "Training Progress:  28%|██▊       | 28/100 [00:00<00:02, 30.54it/s]glvq_models.py:364 - Epoch 0030 - Accuracy: 93.98%, Loss: 145.7248\n",
      "Training Progress:  39%|███▉      | 39/100 [00:01<00:02, 29.17it/s]glvq_models.py:364 - Epoch 0040 - Accuracy: 93.98%, Loss: 145.7248\n",
      "Training Progress:  50%|█████     | 50/100 [00:01<00:01, 31.50it/s]glvq_models.py:364 - Epoch 0050 - Accuracy: 93.98%, Loss: 145.7248\n",
      "Training Progress:  58%|█████▊    | 58/100 [00:01<00:01, 29.38it/s]glvq_models.py:364 - Epoch 0060 - Accuracy: 93.98%, Loss: 145.7248\n",
      "Training Progress:  70%|███████   | 70/100 [00:02<00:00, 31.07it/s]glvq_models.py:364 - Epoch 0070 - Accuracy: 93.98%, Loss: 145.7248\n",
      "Training Progress:  78%|███████▊  | 78/100 [00:02<00:00, 30.27it/s]glvq_models.py:364 - Epoch 0080 - Accuracy: 93.98%, Loss: 145.7248\n",
      "Training Progress:  90%|█████████ | 90/100 [00:02<00:00, 29.72it/s]glvq_models.py:364 - Epoch 0090 - Accuracy: 93.98%, Loss: 145.7248\n",
      "Training Progress: 100%|██████████| 100/100 [00:03<00:00, 29.56it/s]\n",
      "glvq_models.py:373 - Training finished\n",
      "lvq_base.py:179 - Fold 6: Accuracy = 0.9388\n",
      "Training Progress:   0%|          | 0/100 [00:00<?, ?it/s]glvq_models.py:364 - Epoch 0000 - Accuracy: 93.98%, Loss: 147.4270\n",
      "Training Progress:  10%|█         | 10/100 [00:00<00:03, 26.57it/s]glvq_models.py:364 - Epoch 0010 - Accuracy: 93.98%, Loss: 147.4270\n",
      "Training Progress:  17%|█▋        | 17/100 [00:00<00:02, 27.93it/s]glvq_models.py:364 - Epoch 0020 - Accuracy: 93.98%, Loss: 147.4270\n",
      "Training Progress:  29%|██▉       | 29/100 [00:01<00:02, 30.92it/s]glvq_models.py:364 - Epoch 0030 - Accuracy: 93.98%, Loss: 147.4270\n",
      "Training Progress:  37%|███▋      | 37/100 [00:01<00:01, 33.04it/s]glvq_models.py:364 - Epoch 0040 - Accuracy: 93.98%, Loss: 147.4270\n",
      "Training Progress:  49%|████▉     | 49/100 [00:01<00:01, 33.49it/s]glvq_models.py:364 - Epoch 0050 - Accuracy: 93.98%, Loss: 147.4270\n",
      "Training Progress:  57%|█████▋    | 57/100 [00:01<00:01, 32.14it/s]glvq_models.py:364 - Epoch 0060 - Accuracy: 93.98%, Loss: 147.4270\n",
      "Training Progress:  69%|██████▉   | 69/100 [00:02<00:01, 30.57it/s]glvq_models.py:364 - Epoch 0070 - Accuracy: 93.98%, Loss: 147.4270\n",
      "Training Progress:  77%|███████▋  | 77/100 [00:02<00:00, 32.11it/s]glvq_models.py:364 - Epoch 0080 - Accuracy: 93.98%, Loss: 147.4270\n",
      "Training Progress:  89%|████████▉ | 89/100 [00:02<00:00, 34.09it/s]glvq_models.py:364 - Epoch 0090 - Accuracy: 93.98%, Loss: 147.4270\n",
      "Training Progress: 100%|██████████| 100/100 [00:03<00:00, 31.11it/s]\n",
      "glvq_models.py:373 - Training finished\n",
      "lvq_base.py:179 - Fold 7: Accuracy = 0.9592\n",
      "lvq_base.py:183 - Accuracies: [0.8979591836734694, 0.8979591836734694, 0.9795918367346939, 0.9183673469387755, 0.9387755102040817, 0.9795918367346939, 0.9387755102040817, 0.9591836734693877]\n",
      "lvq_base.py:184 - Mean Accuracy: 0.9387755102040817\n",
      "lvq_base.py:185 - Accuracy Variance: 0.0009371095376926274\n",
      "lvq_base.py:187 - Finished Cross Validation\n"
     ]
    }
   ],
   "source": [
    "trained_model.cross_validate(x_train, y_train, 8)"
   ]
  }
 ],
 "metadata": {
  "kernelspec": {
   "display_name": "Python 3",
   "language": "python",
   "name": "python3"
  },
  "language_info": {
   "codemirror_mode": {
    "name": "ipython",
    "version": 3
   },
   "file_extension": ".py",
   "mimetype": "text/x-python",
   "name": "python",
   "nbconvert_exporter": "python",
   "pygments_lexer": "ipython3",
   "version": "3.10.12"
  },
  "orig_nbformat": 4
 },
 "nbformat": 4,
 "nbformat_minor": 2
}
